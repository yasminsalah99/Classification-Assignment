{
 "cells": [
  {
   "cell_type": "code",
   "execution_count": 1,
   "id": "5d6c2d89",
   "metadata": {},
   "outputs": [],
   "source": [
    "import pandas as pd\n",
    "import seaborn as sns\n",
    "import matplotlib.pyplot as plt\n",
    "import numpy as np\n",
    "import matplotlib.pyplot as plt\n",
    "from sklearn.model_selection import train_test_split\n",
    "from fast_ml.model_development import train_valid_test_split\n",
    "from sklearn.linear_model import LinearRegression\n",
    "from sklearn.metrics import mean_squared_error as mse\n"
   ]
  },
  {
   "cell_type": "code",
   "execution_count": 2,
   "id": "e2d4d9ad",
   "metadata": {},
   "outputs": [],
   "source": [
    "df=pd.read_csv('OnlinePayments.csv')\n"
   ]
  },
  {
   "cell_type": "code",
   "execution_count": 3,
   "id": "98b41d78",
   "metadata": {
    "scrolled": true
   },
   "outputs": [
    {
     "data": {
      "text/html": [
       "<div>\n",
       "<style scoped>\n",
       "    .dataframe tbody tr th:only-of-type {\n",
       "        vertical-align: middle;\n",
       "    }\n",
       "\n",
       "    .dataframe tbody tr th {\n",
       "        vertical-align: top;\n",
       "    }\n",
       "\n",
       "    .dataframe thead th {\n",
       "        text-align: right;\n",
       "    }\n",
       "</style>\n",
       "<table border=\"1\" class=\"dataframe\">\n",
       "  <thead>\n",
       "    <tr style=\"text-align: right;\">\n",
       "      <th></th>\n",
       "      <th>step</th>\n",
       "      <th>type</th>\n",
       "      <th>amount</th>\n",
       "      <th>nameOrig</th>\n",
       "      <th>oldbalanceOrg</th>\n",
       "      <th>newbalanceOrig</th>\n",
       "      <th>nameDest</th>\n",
       "      <th>oldbalanceDest</th>\n",
       "      <th>newbalanceDest</th>\n",
       "      <th>isFraud</th>\n",
       "      <th>isFlaggedFraud</th>\n",
       "    </tr>\n",
       "  </thead>\n",
       "  <tbody>\n",
       "    <tr>\n",
       "      <th>0</th>\n",
       "      <td>1</td>\n",
       "      <td>PAYMENT</td>\n",
       "      <td>9839.64</td>\n",
       "      <td>C1231006815</td>\n",
       "      <td>170136.00</td>\n",
       "      <td>160296.36</td>\n",
       "      <td>M1979787155</td>\n",
       "      <td>0.00</td>\n",
       "      <td>0.00</td>\n",
       "      <td>0</td>\n",
       "      <td>0</td>\n",
       "    </tr>\n",
       "    <tr>\n",
       "      <th>1</th>\n",
       "      <td>1</td>\n",
       "      <td>PAYMENT</td>\n",
       "      <td>1864.28</td>\n",
       "      <td>C1666544295</td>\n",
       "      <td>21249.00</td>\n",
       "      <td>19384.72</td>\n",
       "      <td>M2044282225</td>\n",
       "      <td>0.00</td>\n",
       "      <td>0.00</td>\n",
       "      <td>0</td>\n",
       "      <td>0</td>\n",
       "    </tr>\n",
       "    <tr>\n",
       "      <th>2</th>\n",
       "      <td>1</td>\n",
       "      <td>TRANSFER</td>\n",
       "      <td>181.00</td>\n",
       "      <td>C1305486145</td>\n",
       "      <td>181.00</td>\n",
       "      <td>0.00</td>\n",
       "      <td>C553264065</td>\n",
       "      <td>0.00</td>\n",
       "      <td>0.00</td>\n",
       "      <td>1</td>\n",
       "      <td>0</td>\n",
       "    </tr>\n",
       "    <tr>\n",
       "      <th>3</th>\n",
       "      <td>1</td>\n",
       "      <td>CASH_OUT</td>\n",
       "      <td>181.00</td>\n",
       "      <td>C840083671</td>\n",
       "      <td>181.00</td>\n",
       "      <td>0.00</td>\n",
       "      <td>C38997010</td>\n",
       "      <td>21182.00</td>\n",
       "      <td>0.00</td>\n",
       "      <td>1</td>\n",
       "      <td>0</td>\n",
       "    </tr>\n",
       "    <tr>\n",
       "      <th>4</th>\n",
       "      <td>1</td>\n",
       "      <td>PAYMENT</td>\n",
       "      <td>11668.14</td>\n",
       "      <td>C2048537720</td>\n",
       "      <td>41554.00</td>\n",
       "      <td>29885.86</td>\n",
       "      <td>M1230701703</td>\n",
       "      <td>0.00</td>\n",
       "      <td>0.00</td>\n",
       "      <td>0</td>\n",
       "      <td>0</td>\n",
       "    </tr>\n",
       "    <tr>\n",
       "      <th>...</th>\n",
       "      <td>...</td>\n",
       "      <td>...</td>\n",
       "      <td>...</td>\n",
       "      <td>...</td>\n",
       "      <td>...</td>\n",
       "      <td>...</td>\n",
       "      <td>...</td>\n",
       "      <td>...</td>\n",
       "      <td>...</td>\n",
       "      <td>...</td>\n",
       "      <td>...</td>\n",
       "    </tr>\n",
       "    <tr>\n",
       "      <th>6362615</th>\n",
       "      <td>743</td>\n",
       "      <td>CASH_OUT</td>\n",
       "      <td>339682.13</td>\n",
       "      <td>C786484425</td>\n",
       "      <td>339682.13</td>\n",
       "      <td>0.00</td>\n",
       "      <td>C776919290</td>\n",
       "      <td>0.00</td>\n",
       "      <td>339682.13</td>\n",
       "      <td>1</td>\n",
       "      <td>0</td>\n",
       "    </tr>\n",
       "    <tr>\n",
       "      <th>6362616</th>\n",
       "      <td>743</td>\n",
       "      <td>TRANSFER</td>\n",
       "      <td>6311409.28</td>\n",
       "      <td>C1529008245</td>\n",
       "      <td>6311409.28</td>\n",
       "      <td>0.00</td>\n",
       "      <td>C1881841831</td>\n",
       "      <td>0.00</td>\n",
       "      <td>0.00</td>\n",
       "      <td>1</td>\n",
       "      <td>0</td>\n",
       "    </tr>\n",
       "    <tr>\n",
       "      <th>6362617</th>\n",
       "      <td>743</td>\n",
       "      <td>CASH_OUT</td>\n",
       "      <td>6311409.28</td>\n",
       "      <td>C1162922333</td>\n",
       "      <td>6311409.28</td>\n",
       "      <td>0.00</td>\n",
       "      <td>C1365125890</td>\n",
       "      <td>68488.84</td>\n",
       "      <td>6379898.11</td>\n",
       "      <td>1</td>\n",
       "      <td>0</td>\n",
       "    </tr>\n",
       "    <tr>\n",
       "      <th>6362618</th>\n",
       "      <td>743</td>\n",
       "      <td>TRANSFER</td>\n",
       "      <td>850002.52</td>\n",
       "      <td>C1685995037</td>\n",
       "      <td>850002.52</td>\n",
       "      <td>0.00</td>\n",
       "      <td>C2080388513</td>\n",
       "      <td>0.00</td>\n",
       "      <td>0.00</td>\n",
       "      <td>1</td>\n",
       "      <td>0</td>\n",
       "    </tr>\n",
       "    <tr>\n",
       "      <th>6362619</th>\n",
       "      <td>743</td>\n",
       "      <td>CASH_OUT</td>\n",
       "      <td>850002.52</td>\n",
       "      <td>C1280323807</td>\n",
       "      <td>850002.52</td>\n",
       "      <td>0.00</td>\n",
       "      <td>C873221189</td>\n",
       "      <td>6510099.11</td>\n",
       "      <td>7360101.63</td>\n",
       "      <td>1</td>\n",
       "      <td>0</td>\n",
       "    </tr>\n",
       "  </tbody>\n",
       "</table>\n",
       "<p>6362620 rows × 11 columns</p>\n",
       "</div>"
      ],
      "text/plain": [
       "         step      type      amount     nameOrig  oldbalanceOrg  \\\n",
       "0           1   PAYMENT     9839.64  C1231006815      170136.00   \n",
       "1           1   PAYMENT     1864.28  C1666544295       21249.00   \n",
       "2           1  TRANSFER      181.00  C1305486145         181.00   \n",
       "3           1  CASH_OUT      181.00   C840083671         181.00   \n",
       "4           1   PAYMENT    11668.14  C2048537720       41554.00   \n",
       "...       ...       ...         ...          ...            ...   \n",
       "6362615   743  CASH_OUT   339682.13   C786484425      339682.13   \n",
       "6362616   743  TRANSFER  6311409.28  C1529008245     6311409.28   \n",
       "6362617   743  CASH_OUT  6311409.28  C1162922333     6311409.28   \n",
       "6362618   743  TRANSFER   850002.52  C1685995037      850002.52   \n",
       "6362619   743  CASH_OUT   850002.52  C1280323807      850002.52   \n",
       "\n",
       "         newbalanceOrig     nameDest  oldbalanceDest  newbalanceDest  isFraud  \\\n",
       "0             160296.36  M1979787155            0.00            0.00        0   \n",
       "1              19384.72  M2044282225            0.00            0.00        0   \n",
       "2                  0.00   C553264065            0.00            0.00        1   \n",
       "3                  0.00    C38997010        21182.00            0.00        1   \n",
       "4              29885.86  M1230701703            0.00            0.00        0   \n",
       "...                 ...          ...             ...             ...      ...   \n",
       "6362615            0.00   C776919290            0.00       339682.13        1   \n",
       "6362616            0.00  C1881841831            0.00            0.00        1   \n",
       "6362617            0.00  C1365125890        68488.84      6379898.11        1   \n",
       "6362618            0.00  C2080388513            0.00            0.00        1   \n",
       "6362619            0.00   C873221189      6510099.11      7360101.63        1   \n",
       "\n",
       "         isFlaggedFraud  \n",
       "0                     0  \n",
       "1                     0  \n",
       "2                     0  \n",
       "3                     0  \n",
       "4                     0  \n",
       "...                 ...  \n",
       "6362615               0  \n",
       "6362616               0  \n",
       "6362617               0  \n",
       "6362618               0  \n",
       "6362619               0  \n",
       "\n",
       "[6362620 rows x 11 columns]"
      ]
     },
     "execution_count": 3,
     "metadata": {},
     "output_type": "execute_result"
    }
   ],
   "source": [
    "df\n"
   ]
  },
  {
   "cell_type": "code",
   "execution_count": 4,
   "id": "d3e62cc1",
   "metadata": {
    "scrolled": false
   },
   "outputs": [
    {
     "data": {
      "text/plain": [
       "step                int64\n",
       "type               object\n",
       "amount            float64\n",
       "nameOrig           object\n",
       "oldbalanceOrg     float64\n",
       "newbalanceOrig    float64\n",
       "nameDest           object\n",
       "oldbalanceDest    float64\n",
       "newbalanceDest    float64\n",
       "isFraud             int64\n",
       "isFlaggedFraud      int64\n",
       "dtype: object"
      ]
     },
     "execution_count": 4,
     "metadata": {},
     "output_type": "execute_result"
    }
   ],
   "source": [
    "df.dtypes"
   ]
  },
  {
   "cell_type": "code",
   "execution_count": 5,
   "id": "918780f7",
   "metadata": {},
   "outputs": [
    {
     "data": {
      "text/plain": [
       "0           PAYMENT\n",
       "1           PAYMENT\n",
       "2          TRANSFER\n",
       "3          CASH_OUT\n",
       "4           PAYMENT\n",
       "             ...   \n",
       "6362615    CASH_OUT\n",
       "6362616    TRANSFER\n",
       "6362617    CASH_OUT\n",
       "6362618    TRANSFER\n",
       "6362619    CASH_OUT\n",
       "Name: type, Length: 6362620, dtype: object"
      ]
     },
     "execution_count": 5,
     "metadata": {},
     "output_type": "execute_result"
    }
   ],
   "source": [
    "df['type']"
   ]
  },
  {
   "cell_type": "code",
   "execution_count": 6,
   "id": "0fd769ba",
   "metadata": {},
   "outputs": [],
   "source": [
    "from sklearn.preprocessing import LabelEncoder\n",
    "# creating initial dataframe\n",
    "\n",
    "#bridge_types = ('type','Beam','Truss','Cantilever','Tied Arch','Suspension','Cable')\n",
    "#bridge_df = pd.DataFrame(bridge_types, columns=['d'])\n",
    "\n",
    "\n",
    "\n",
    "# creating instance of labelencoder\n",
    "labelencoder = LabelEncoder()\n",
    "df['type']=labelencoder.fit_transform(df['type'])\n",
    "df['nameOrig']=labelencoder.fit_transform(df['nameOrig'])\n",
    "df['nameDest']=labelencoder.fit_transform(df['nameDest'])\n",
    "# Assigning numerical values and storing in another column\n",
    "\n"
   ]
  },
  {
   "cell_type": "code",
   "execution_count": 7,
   "id": "c98833d4",
   "metadata": {},
   "outputs": [],
   "source": [
    "def dataNorm(X): \n",
    "    # Normalise data points\n",
    "    length = len(X.columns)\n",
    "    for i in range(0, length): \n",
    "        col = X.iloc[:,i]\n",
    "        max_val = col.max() \n",
    "        min_val = col.min() \n",
    "        X.iloc[:,i] = (col-min_val)/(max_val-min_val)\n",
    "    return X"
   ]
  },
  {
   "cell_type": "code",
   "execution_count": 8,
   "id": "1877f426",
   "metadata": {},
   "outputs": [],
   "source": [
    "dfnorm=dataNorm(df)"
   ]
  },
  {
   "cell_type": "code",
   "execution_count": 9,
   "id": "1fdf00eb",
   "metadata": {},
   "outputs": [
    {
     "data": {
      "text/html": [
       "<div>\n",
       "<style scoped>\n",
       "    .dataframe tbody tr th:only-of-type {\n",
       "        vertical-align: middle;\n",
       "    }\n",
       "\n",
       "    .dataframe tbody tr th {\n",
       "        vertical-align: top;\n",
       "    }\n",
       "\n",
       "    .dataframe thead th {\n",
       "        text-align: right;\n",
       "    }\n",
       "</style>\n",
       "<table border=\"1\" class=\"dataframe\">\n",
       "  <thead>\n",
       "    <tr style=\"text-align: right;\">\n",
       "      <th></th>\n",
       "      <th>step</th>\n",
       "      <th>type</th>\n",
       "      <th>amount</th>\n",
       "      <th>nameOrig</th>\n",
       "      <th>oldbalanceOrg</th>\n",
       "      <th>newbalanceOrig</th>\n",
       "      <th>nameDest</th>\n",
       "      <th>oldbalanceDest</th>\n",
       "      <th>newbalanceDest</th>\n",
       "      <th>isFraud</th>\n",
       "      <th>isFlaggedFraud</th>\n",
       "    </tr>\n",
       "  </thead>\n",
       "  <tbody>\n",
       "    <tr>\n",
       "      <th>0</th>\n",
       "      <td>0.0</td>\n",
       "      <td>0.75</td>\n",
       "      <td>0.000106</td>\n",
       "      <td>0.119287</td>\n",
       "      <td>0.002855</td>\n",
       "      <td>0.003233</td>\n",
       "      <td>0.610534</td>\n",
       "      <td>0.000000</td>\n",
       "      <td>0.000000</td>\n",
       "      <td>0.0</td>\n",
       "      <td>0.0</td>\n",
       "    </tr>\n",
       "    <tr>\n",
       "      <th>1</th>\n",
       "      <td>0.0</td>\n",
       "      <td>0.75</td>\n",
       "      <td>0.000020</td>\n",
       "      <td>0.344545</td>\n",
       "      <td>0.000357</td>\n",
       "      <td>0.000391</td>\n",
       "      <td>0.636919</td>\n",
       "      <td>0.000000</td>\n",
       "      <td>0.000000</td>\n",
       "      <td>0.0</td>\n",
       "      <td>0.0</td>\n",
       "    </tr>\n",
       "    <tr>\n",
       "      <th>2</th>\n",
       "      <td>0.0</td>\n",
       "      <td>1.00</td>\n",
       "      <td>0.000002</td>\n",
       "      <td>0.157738</td>\n",
       "      <td>0.000003</td>\n",
       "      <td>0.000000</td>\n",
       "      <td>0.161509</td>\n",
       "      <td>0.000000</td>\n",
       "      <td>0.000000</td>\n",
       "      <td>1.0</td>\n",
       "      <td>0.0</td>\n",
       "    </tr>\n",
       "    <tr>\n",
       "      <th>3</th>\n",
       "      <td>0.0</td>\n",
       "      <td>0.25</td>\n",
       "      <td>0.000002</td>\n",
       "      <td>0.917359</td>\n",
       "      <td>0.000003</td>\n",
       "      <td>0.000000</td>\n",
       "      <td>0.143881</td>\n",
       "      <td>0.000059</td>\n",
       "      <td>0.000000</td>\n",
       "      <td>1.0</td>\n",
       "      <td>0.0</td>\n",
       "    </tr>\n",
       "    <tr>\n",
       "      <th>4</th>\n",
       "      <td>0.0</td>\n",
       "      <td>0.75</td>\n",
       "      <td>0.000126</td>\n",
       "      <td>0.542392</td>\n",
       "      <td>0.000697</td>\n",
       "      <td>0.000603</td>\n",
       "      <td>0.304485</td>\n",
       "      <td>0.000000</td>\n",
       "      <td>0.000000</td>\n",
       "      <td>0.0</td>\n",
       "      <td>0.0</td>\n",
       "    </tr>\n",
       "    <tr>\n",
       "      <th>...</th>\n",
       "      <td>...</td>\n",
       "      <td>...</td>\n",
       "      <td>...</td>\n",
       "      <td>...</td>\n",
       "      <td>...</td>\n",
       "      <td>...</td>\n",
       "      <td>...</td>\n",
       "      <td>...</td>\n",
       "      <td>...</td>\n",
       "      <td>...</td>\n",
       "      <td>...</td>\n",
       "    </tr>\n",
       "    <tr>\n",
       "      <th>6362615</th>\n",
       "      <td>1.0</td>\n",
       "      <td>0.25</td>\n",
       "      <td>0.003674</td>\n",
       "      <td>0.889591</td>\n",
       "      <td>0.005701</td>\n",
       "      <td>0.000000</td>\n",
       "      <td>0.185818</td>\n",
       "      <td>0.000000</td>\n",
       "      <td>0.000954</td>\n",
       "      <td>1.0</td>\n",
       "      <td>0.0</td>\n",
       "    </tr>\n",
       "    <tr>\n",
       "      <th>6362616</th>\n",
       "      <td>1.0</td>\n",
       "      <td>1.00</td>\n",
       "      <td>0.068272</td>\n",
       "      <td>0.273445</td>\n",
       "      <td>0.105923</td>\n",
       "      <td>0.000000</td>\n",
       "      <td>0.095854</td>\n",
       "      <td>0.000000</td>\n",
       "      <td>0.000000</td>\n",
       "      <td>1.0</td>\n",
       "      <td>0.0</td>\n",
       "    </tr>\n",
       "    <tr>\n",
       "      <th>6362617</th>\n",
       "      <td>1.0</td>\n",
       "      <td>0.25</td>\n",
       "      <td>0.068272</td>\n",
       "      <td>0.084044</td>\n",
       "      <td>0.105923</td>\n",
       "      <td>0.000000</td>\n",
       "      <td>0.039754</td>\n",
       "      <td>0.000192</td>\n",
       "      <td>0.017912</td>\n",
       "      <td>1.0</td>\n",
       "      <td>0.0</td>\n",
       "    </tr>\n",
       "    <tr>\n",
       "      <th>6362618</th>\n",
       "      <td>1.0</td>\n",
       "      <td>1.00</td>\n",
       "      <td>0.009195</td>\n",
       "      <td>0.354608</td>\n",
       "      <td>0.014265</td>\n",
       "      <td>0.000000</td>\n",
       "      <td>0.117440</td>\n",
       "      <td>0.000000</td>\n",
       "      <td>0.000000</td>\n",
       "      <td>1.0</td>\n",
       "      <td>0.0</td>\n",
       "    </tr>\n",
       "    <tr>\n",
       "      <th>6362619</th>\n",
       "      <td>1.0</td>\n",
       "      <td>0.25</td>\n",
       "      <td>0.009195</td>\n",
       "      <td>0.144685</td>\n",
       "      <td>0.014265</td>\n",
       "      <td>0.000000</td>\n",
       "      <td>0.196372</td>\n",
       "      <td>0.018286</td>\n",
       "      <td>0.020664</td>\n",
       "      <td>1.0</td>\n",
       "      <td>0.0</td>\n",
       "    </tr>\n",
       "  </tbody>\n",
       "</table>\n",
       "<p>6362620 rows × 11 columns</p>\n",
       "</div>"
      ],
      "text/plain": [
       "         step  type    amount  nameOrig  oldbalanceOrg  newbalanceOrig  \\\n",
       "0         0.0  0.75  0.000106  0.119287       0.002855        0.003233   \n",
       "1         0.0  0.75  0.000020  0.344545       0.000357        0.000391   \n",
       "2         0.0  1.00  0.000002  0.157738       0.000003        0.000000   \n",
       "3         0.0  0.25  0.000002  0.917359       0.000003        0.000000   \n",
       "4         0.0  0.75  0.000126  0.542392       0.000697        0.000603   \n",
       "...       ...   ...       ...       ...            ...             ...   \n",
       "6362615   1.0  0.25  0.003674  0.889591       0.005701        0.000000   \n",
       "6362616   1.0  1.00  0.068272  0.273445       0.105923        0.000000   \n",
       "6362617   1.0  0.25  0.068272  0.084044       0.105923        0.000000   \n",
       "6362618   1.0  1.00  0.009195  0.354608       0.014265        0.000000   \n",
       "6362619   1.0  0.25  0.009195  0.144685       0.014265        0.000000   \n",
       "\n",
       "         nameDest  oldbalanceDest  newbalanceDest  isFraud  isFlaggedFraud  \n",
       "0        0.610534        0.000000        0.000000      0.0             0.0  \n",
       "1        0.636919        0.000000        0.000000      0.0             0.0  \n",
       "2        0.161509        0.000000        0.000000      1.0             0.0  \n",
       "3        0.143881        0.000059        0.000000      1.0             0.0  \n",
       "4        0.304485        0.000000        0.000000      0.0             0.0  \n",
       "...           ...             ...             ...      ...             ...  \n",
       "6362615  0.185818        0.000000        0.000954      1.0             0.0  \n",
       "6362616  0.095854        0.000000        0.000000      1.0             0.0  \n",
       "6362617  0.039754        0.000192        0.017912      1.0             0.0  \n",
       "6362618  0.117440        0.000000        0.000000      1.0             0.0  \n",
       "6362619  0.196372        0.018286        0.020664      1.0             0.0  \n",
       "\n",
       "[6362620 rows x 11 columns]"
      ]
     },
     "execution_count": 9,
     "metadata": {},
     "output_type": "execute_result"
    }
   ],
   "source": [
    "dfnorm"
   ]
  },
  {
   "cell_type": "code",
   "execution_count": 10,
   "id": "5e4f2632",
   "metadata": {
    "scrolled": true
   },
   "outputs": [
    {
     "data": {
      "text/plain": [
       "[Text(0.5, 1.0, 'Correlation Matrix')]"
      ]
     },
     "execution_count": 10,
     "metadata": {},
     "output_type": "execute_result"
    },
    {
     "data": {
      "image/png": "[encoded data removed]",
      "text/plain": [
       "<Figure size 864x720 with 2 Axes>"
      ]
     },
     "metadata": {
      "needs_background": "light"
     },
     "output_type": "display_data"
    }
   ],
   "source": [
    "# Correlation matrix\n",
    "corr = dfnorm.corr() \n",
    "plt.figure(figsize=(12,10))\n",
    "sns.heatmap(data=corr, annot=True, cmap='Spectral').set(title=\"Correlation Matrix\")"
   ]
  },
  {
   "cell_type": "code",
   "execution_count": 13,
   "id": "a34a65e6",
   "metadata": {},
   "outputs": [
    {
     "data": {
      "text/plain": [
       "0          0.0\n",
       "1          0.0\n",
       "2          1.0\n",
       "3          1.0\n",
       "4          0.0\n",
       "          ... \n",
       "6362615    1.0\n",
       "6362616    1.0\n",
       "6362617    1.0\n",
       "6362618    1.0\n",
       "6362619    1.0\n",
       "Name: isFraud, Length: 6362620, dtype: float64"
      ]
     },
     "execution_count": 13,
     "metadata": {},
     "output_type": "execute_result"
    }
   ],
   "source": [
    "dfnorm_y=dfnorm['isFraud']\n",
    "dfnorm_y"
   ]
  },
  {
   "cell_type": "code",
   "execution_count": 16,
   "id": "7159c075",
   "metadata": {},
   "outputs": [
    {
     "data": {
      "text/html": [
       "<div>\n",
       "<style scoped>\n",
       "    .dataframe tbody tr th:only-of-type {\n",
       "        vertical-align: middle;\n",
       "    }\n",
       "\n",
       "    .dataframe tbody tr th {\n",
       "        vertical-align: top;\n",
       "    }\n",
       "\n",
       "    .dataframe thead th {\n",
       "        text-align: right;\n",
       "    }\n",
       "</style>\n",
       "<table border=\"1\" class=\"dataframe\">\n",
       "  <thead>\n",
       "    <tr style=\"text-align: right;\">\n",
       "      <th></th>\n",
       "      <th>step</th>\n",
       "      <th>type</th>\n",
       "      <th>amount</th>\n",
       "      <th>nameOrig</th>\n",
       "      <th>oldbalanceOrg</th>\n",
       "      <th>newbalanceOrig</th>\n",
       "      <th>nameDest</th>\n",
       "      <th>oldbalanceDest</th>\n",
       "      <th>newbalanceDest</th>\n",
       "      <th>isFlaggedFraud</th>\n",
       "    </tr>\n",
       "  </thead>\n",
       "  <tbody>\n",
       "    <tr>\n",
       "      <th>0</th>\n",
       "      <td>0.0</td>\n",
       "      <td>0.75</td>\n",
       "      <td>0.000106</td>\n",
       "      <td>0.119287</td>\n",
       "      <td>0.002855</td>\n",
       "      <td>0.003233</td>\n",
       "      <td>0.610534</td>\n",
       "      <td>0.000000</td>\n",
       "      <td>0.000000</td>\n",
       "      <td>0.0</td>\n",
       "    </tr>\n",
       "    <tr>\n",
       "      <th>1</th>\n",
       "      <td>0.0</td>\n",
       "      <td>0.75</td>\n",
       "      <td>0.000020</td>\n",
       "      <td>0.344545</td>\n",
       "      <td>0.000357</td>\n",
       "      <td>0.000391</td>\n",
       "      <td>0.636919</td>\n",
       "      <td>0.000000</td>\n",
       "      <td>0.000000</td>\n",
       "      <td>0.0</td>\n",
       "    </tr>\n",
       "    <tr>\n",
       "      <th>2</th>\n",
       "      <td>0.0</td>\n",
       "      <td>1.00</td>\n",
       "      <td>0.000002</td>\n",
       "      <td>0.157738</td>\n",
       "      <td>0.000003</td>\n",
       "      <td>0.000000</td>\n",
       "      <td>0.161509</td>\n",
       "      <td>0.000000</td>\n",
       "      <td>0.000000</td>\n",
       "      <td>0.0</td>\n",
       "    </tr>\n",
       "    <tr>\n",
       "      <th>3</th>\n",
       "      <td>0.0</td>\n",
       "      <td>0.25</td>\n",
       "      <td>0.000002</td>\n",
       "      <td>0.917359</td>\n",
       "      <td>0.000003</td>\n",
       "      <td>0.000000</td>\n",
       "      <td>0.143881</td>\n",
       "      <td>0.000059</td>\n",
       "      <td>0.000000</td>\n",
       "      <td>0.0</td>\n",
       "    </tr>\n",
       "    <tr>\n",
       "      <th>4</th>\n",
       "      <td>0.0</td>\n",
       "      <td>0.75</td>\n",
       "      <td>0.000126</td>\n",
       "      <td>0.542392</td>\n",
       "      <td>0.000697</td>\n",
       "      <td>0.000603</td>\n",
       "      <td>0.304485</td>\n",
       "      <td>0.000000</td>\n",
       "      <td>0.000000</td>\n",
       "      <td>0.0</td>\n",
       "    </tr>\n",
       "    <tr>\n",
       "      <th>...</th>\n",
       "      <td>...</td>\n",
       "      <td>...</td>\n",
       "      <td>...</td>\n",
       "      <td>...</td>\n",
       "      <td>...</td>\n",
       "      <td>...</td>\n",
       "      <td>...</td>\n",
       "      <td>...</td>\n",
       "      <td>...</td>\n",
       "      <td>...</td>\n",
       "    </tr>\n",
       "    <tr>\n",
       "      <th>6362615</th>\n",
       "      <td>1.0</td>\n",
       "      <td>0.25</td>\n",
       "      <td>0.003674</td>\n",
       "      <td>0.889591</td>\n",
       "      <td>0.005701</td>\n",
       "      <td>0.000000</td>\n",
       "      <td>0.185818</td>\n",
       "      <td>0.000000</td>\n",
       "      <td>0.000954</td>\n",
       "      <td>0.0</td>\n",
       "    </tr>\n",
       "    <tr>\n",
       "      <th>6362616</th>\n",
       "      <td>1.0</td>\n",
       "      <td>1.00</td>\n",
       "      <td>0.068272</td>\n",
       "      <td>0.273445</td>\n",
       "      <td>0.105923</td>\n",
       "      <td>0.000000</td>\n",
       "      <td>0.095854</td>\n",
       "      <td>0.000000</td>\n",
       "      <td>0.000000</td>\n",
       "      <td>0.0</td>\n",
       "    </tr>\n",
       "    <tr>\n",
       "      <th>6362617</th>\n",
       "      <td>1.0</td>\n",
       "      <td>0.25</td>\n",
       "      <td>0.068272</td>\n",
       "      <td>0.084044</td>\n",
       "      <td>0.105923</td>\n",
       "      <td>0.000000</td>\n",
       "      <td>0.039754</td>\n",
       "      <td>0.000192</td>\n",
       "      <td>0.017912</td>\n",
       "      <td>0.0</td>\n",
       "    </tr>\n",
       "    <tr>\n",
       "      <th>6362618</th>\n",
       "      <td>1.0</td>\n",
       "      <td>1.00</td>\n",
       "      <td>0.009195</td>\n",
       "      <td>0.354608</td>\n",
       "      <td>0.014265</td>\n",
       "      <td>0.000000</td>\n",
       "      <td>0.117440</td>\n",
       "      <td>0.000000</td>\n",
       "      <td>0.000000</td>\n",
       "      <td>0.0</td>\n",
       "    </tr>\n",
       "    <tr>\n",
       "      <th>6362619</th>\n",
       "      <td>1.0</td>\n",
       "      <td>0.25</td>\n",
       "      <td>0.009195</td>\n",
       "      <td>0.144685</td>\n",
       "      <td>0.014265</td>\n",
       "      <td>0.000000</td>\n",
       "      <td>0.196372</td>\n",
       "      <td>0.018286</td>\n",
       "      <td>0.020664</td>\n",
       "      <td>0.0</td>\n",
       "    </tr>\n",
       "  </tbody>\n",
       "</table>\n",
       "<p>6362620 rows × 10 columns</p>\n",
       "</div>"
      ],
      "text/plain": [
       "         step  type    amount  nameOrig  oldbalanceOrg  newbalanceOrig  \\\n",
       "0         0.0  0.75  0.000106  0.119287       0.002855        0.003233   \n",
       "1         0.0  0.75  0.000020  0.344545       0.000357        0.000391   \n",
       "2         0.0  1.00  0.000002  0.157738       0.000003        0.000000   \n",
       "3         0.0  0.25  0.000002  0.917359       0.000003        0.000000   \n",
       "4         0.0  0.75  0.000126  0.542392       0.000697        0.000603   \n",
       "...       ...   ...       ...       ...            ...             ...   \n",
       "6362615   1.0  0.25  0.003674  0.889591       0.005701        0.000000   \n",
       "6362616   1.0  1.00  0.068272  0.273445       0.105923        0.000000   \n",
       "6362617   1.0  0.25  0.068272  0.084044       0.105923        0.000000   \n",
       "6362618   1.0  1.00  0.009195  0.354608       0.014265        0.000000   \n",
       "6362619   1.0  0.25  0.009195  0.144685       0.014265        0.000000   \n",
       "\n",
       "         nameDest  oldbalanceDest  newbalanceDest  isFlaggedFraud  \n",
       "0        0.610534        0.000000        0.000000             0.0  \n",
       "1        0.636919        0.000000        0.000000             0.0  \n",
       "2        0.161509        0.000000        0.000000             0.0  \n",
       "3        0.143881        0.000059        0.000000             0.0  \n",
       "4        0.304485        0.000000        0.000000             0.0  \n",
       "...           ...             ...             ...             ...  \n",
       "6362615  0.185818        0.000000        0.000954             0.0  \n",
       "6362616  0.095854        0.000000        0.000000             0.0  \n",
       "6362617  0.039754        0.000192        0.017912             0.0  \n",
       "6362618  0.117440        0.000000        0.000000             0.0  \n",
       "6362619  0.196372        0.018286        0.020664             0.0  \n",
       "\n",
       "[6362620 rows x 10 columns]"
      ]
     },
     "execution_count": 16,
     "metadata": {},
     "output_type": "execute_result"
    }
   ],
   "source": [
    "dfnorm_x=dfnorm.drop(labels='isFraud', axis=1)\n",
    "dfnorm_x"
   ]
  },
  {
   "cell_type": "code",
   "execution_count": 17,
   "id": "6ffd0e3f",
   "metadata": {
    "scrolled": true
   },
   "outputs": [],
   "source": [
    "from sklearn.model_selection import train_test_split\n",
    "X_train, X_test, y_train, y_test = train_test_split(dfnorm_x, dfnorm_y, test_size=0.33, random_state=42)\n"
   ]
  },
  {
   "cell_type": "code",
   "execution_count": 18,
   "id": "a51b871a",
   "metadata": {},
   "outputs": [
    {
     "data": {
      "text/plain": [
       "1186641    0.0\n",
       "1199598    0.0\n",
       "1185636    0.0\n",
       "6211424    0.0\n",
       "4452703    0.0\n",
       "          ... \n",
       "1570006    0.0\n",
       "2234489    0.0\n",
       "4926484    0.0\n",
       "4304572    0.0\n",
       "1692743    0.0\n",
       "Name: isFraud, Length: 4262955, dtype: float64"
      ]
     },
     "execution_count": 18,
     "metadata": {},
     "output_type": "execute_result"
    }
   ],
   "source": [
    "y_train"
   ]
  },
  {
   "cell_type": "code",
   "execution_count": 21,
   "id": "d316a1f7",
   "metadata": {},
   "outputs": [
    {
     "data": {
      "text/plain": [
       "LogisticRegression(random_state=0)"
      ]
     },
     "execution_count": 21,
     "metadata": {},
     "output_type": "execute_result"
    }
   ],
   "source": [
    "from sklearn.linear_model import LogisticRegression\n",
    "classifier = LogisticRegression(random_state = 0)\n",
    "classifier.fit(X_train, y_train)"
   ]
  },
  {
   "cell_type": "code",
   "execution_count": 22,
   "id": "afea0f36",
   "metadata": {},
   "outputs": [
    {
     "data": {
      "text/plain": [
       "array([0., 0., 0., ..., 0., 0., 0.])"
      ]
     },
     "execution_count": 22,
     "metadata": {},
     "output_type": "execute_result"
    }
   ],
   "source": [
    "\n",
    "y_pred = classifier.predict(X_test)\n",
    "y_pred"
   ]
  },
  {
   "cell_type": "code",
   "execution_count": 23,
   "id": "6fadd578",
   "metadata": {},
   "outputs": [
    {
     "name": "stdout",
     "output_type": "stream",
     "text": [
      "Confusion Matrix : \n",
      " [[2096998       1]\n",
      " [   2494     172]]\n"
     ]
    }
   ],
   "source": [
    "from sklearn.metrics import confusion_matrix\n",
    "cm = confusion_matrix(y_test, y_pred)\n",
    " \n",
    "print (\"Confusion Matrix : \\n\", cm)"
   ]
  },
  {
   "cell_type": "code",
   "execution_count": 24,
   "id": "7cc57ba2",
   "metadata": {},
   "outputs": [
    {
     "data": {
      "text/plain": [
       "0.998811715202187"
      ]
     },
     "execution_count": 24,
     "metadata": {},
     "output_type": "execute_result"
    }
   ],
   "source": [
    "classifier.score(X_test, y_test)"
   ]
  },
  {
   "cell_type": "code",
   "execution_count": 25,
   "id": "1d97b42c",
   "metadata": {
    "scrolled": true
   },
   "outputs": [
    {
     "name": "stdout",
     "output_type": "stream",
     "text": [
      "Accuracy :  0.998811715202187\n"
     ]
    }
   ],
   "source": [
    "from sklearn.metrics import accuracy_score\n",
    "print (\"Accuracy : \", accuracy_score(y_test, y_pred))"
   ]
  },
  {
   "cell_type": "code",
   "execution_count": 26,
   "id": "0e0f7497",
   "metadata": {
    "scrolled": true
   },
   "outputs": [
    {
     "data": {
      "text/plain": [
       "array([[9.99740715e-01, 2.59284606e-04],\n",
       "       [9.99979715e-01, 2.02847782e-05],\n",
       "       [9.99821964e-01, 1.78036048e-04],\n",
       "       ...,\n",
       "       [9.98628748e-01, 1.37125186e-03],\n",
       "       [9.99867617e-01, 1.32382980e-04],\n",
       "       [9.98581233e-01, 1.41876718e-03]])"
      ]
     },
     "execution_count": 26,
     "metadata": {},
     "output_type": "execute_result"
    }
   ],
   "source": [
    "#predict_proba returns estimates for all classes, ordered by the label of classes. So, the first column is the probability of class 1, P(Y=1|X), and second column is probability of class 0, P(Y=0|X)\n",
    "ypred_prob = classifier.predict_proba(X_test) \n",
    "ypred_prob"
   ]
  },
  {
   "cell_type": "code",
   "execution_count": 27,
   "id": "e384923c",
   "metadata": {
    "scrolled": true
   },
   "outputs": [
    {
     "data": {
      "text/plain": [
       "array([[  3.70647246,   2.21760934,  15.01118784,  -0.06201055,\n",
       "         44.90423992, -37.57582522,  -6.49996027, -11.29683985,\n",
       "        -13.19712345,   3.18958108]])"
      ]
     },
     "execution_count": 27,
     "metadata": {},
     "output_type": "execute_result"
    }
   ],
   "source": [
    "thetas = classifier.coef_\n",
    "thetas"
   ]
  },
  {
   "cell_type": "code",
   "execution_count": 28,
   "id": "1b9ac813",
   "metadata": {},
   "outputs": [
    {
     "data": {
      "text/plain": [
       "{'C': 1.0,\n",
       " 'class_weight': None,\n",
       " 'dual': False,\n",
       " 'fit_intercept': True,\n",
       " 'intercept_scaling': 1,\n",
       " 'l1_ratio': None,\n",
       " 'max_iter': 100,\n",
       " 'multi_class': 'auto',\n",
       " 'n_jobs': None,\n",
       " 'penalty': 'l2',\n",
       " 'random_state': 0,\n",
       " 'solver': 'lbfgs',\n",
       " 'tol': 0.0001,\n",
       " 'verbose': 0,\n",
       " 'warm_start': False}"
      ]
     },
     "execution_count": 28,
     "metadata": {},
     "output_type": "execute_result"
    }
   ],
   "source": [
    "classifier.get_params(deep=True)"
   ]
  },
  {
   "cell_type": "code",
   "execution_count": 29,
   "id": "aeb3554d",
   "metadata": {},
   "outputs": [
    {
     "data": {
      "text/plain": [
       "array([[-2.64404237e-04, -8.23816363e+00],\n",
       "       [-5.93105727e-04, -7.43043442e+00],\n",
       "       [-2.43488764e-04, -8.32056150e+00],\n",
       "       ...,\n",
       "       [-2.61896342e-03, -5.94628588e+00],\n",
       "       [-1.16087263e-03, -6.75916367e+00],\n",
       "       [-9.33001047e-04, -6.97757070e+00]])"
      ]
     },
     "execution_count": 29,
     "metadata": {},
     "output_type": "execute_result"
    }
   ],
   "source": [
    "probability=classifier.predict_log_proba(X_train) #hypothesis\n",
    "probability"
   ]
  },
  {
   "cell_type": "code",
   "execution_count": 30,
   "id": "c5646c34",
   "metadata": {},
   "outputs": [],
   "source": [
    "def sigmoid(x):\n",
    "    # Activation function used to map any real value between 0 and 1\n",
    "    return 1 / (1 + np.exp(-x))"
   ]
  },
  {
   "cell_type": "code",
   "execution_count": 31,
   "id": "3f627cdc",
   "metadata": {},
   "outputs": [],
   "source": [
    "def net_input(theta, x):\n",
    "    # Computes the weighted sum of inputs\n",
    "    return np.dot(x, theta)"
   ]
  },
  {
   "cell_type": "code",
   "execution_count": 32,
   "id": "668b0306",
   "metadata": {},
   "outputs": [],
   "source": [
    "def probability(theta, x):\n",
    "    # Returns the probability after passing through sigmoid\n",
    "    return sigmoid(net_input(theta, x))"
   ]
  },
  {
   "cell_type": "code",
   "execution_count": 33,
   "id": "10c43e75",
   "metadata": {},
   "outputs": [],
   "source": [
    "def cost_function( theta, x, y):\n",
    "    # Computes the cost function for all the training samples\n",
    "    m = x.shape[0]\n",
    "    total_cost = -(1 / m) * np.sum(\n",
    "        y * np.log(probability(theta, x)) + (1 - y) * np.log(\n",
    "            1 - probability(theta, x)))\n",
    "   # Print('this is total cost')\n",
    "   # print(total_cost)\n",
    "    return total_cost"
   ]
  },
  {
   "cell_type": "code",
   "execution_count": 34,
   "id": "ee5bb9fd",
   "metadata": {},
   "outputs": [],
   "source": [
    "def gradient(theta, x, y):\n",
    "    # Computes the gradient of the cost function at the point theta\n",
    "    m = x.shape[0]\n",
    "    return theta - (1 / m) * np.dot(x.T, sigmoid(net_input(theta,   x)) - y)"
   ]
  },
  {
   "cell_type": "code",
   "execution_count": 35,
   "id": "c0343d8d",
   "metadata": {},
   "outputs": [],
   "source": [
    "def gradient_descent(X, y, epoch = 10):\n",
    "    dim = len(X.columns) #number of columns of X_train = 13\n",
    "    X = np.array(X) #converting X_train to an array\n",
    "    y = np.array(y) #converting y_train to an array\n",
    "      # Initialise a random theta0 and weights (thetas) for the regression equation\n",
    "    best_estimated_problist=np.array([])   \n",
    "    estimated_problist=np.array([])\n",
    "    costfunc = 100000\n",
    "    cost = 0\n",
    "    thetas = np.random.rand(dim) #13 random thetas\n",
    "    bestthetas=np.array([])\n",
    "    costfunclist=[]\n",
    "    for e in range(0, epoch+1):\n",
    "    # Calculate the probability of the values of y\n",
    "        \n",
    "        \n",
    "        estimated_prob= probability(thetas, X)  #this is the hypothesis function\n",
    "        #estimated_problist=np.append(estimated_problist,estimated_prob)\n",
    "        \n",
    "        # Calculate MSE\n",
    "        cost = cost_function( thetas, X, y)\n",
    "        #if e%10==0:\n",
    "        costfunclist.append(cost)\n",
    "            \n",
    "        \n",
    "        if cost<costfunc:\n",
    "            costfunc=cost\n",
    "            bestthetas=thetas\n",
    "            best_estimated_problist=estimated_prob\n",
    "    \n",
    "        # Update thetas,\n",
    "    \n",
    "        \n",
    "        thetas = gradient(thetas, X, y)\n",
    "    \n",
    "        # params = pd.DataFrame(columns=['MSE', 'theta0' , ])\n",
    "    \n",
    "    return best_estimated_problist, bestthetas, costfunc, costfunclist\n",
    "    "
   ]
  },
  {
   "cell_type": "code",
   "execution_count": 36,
   "id": "1d621006",
   "metadata": {
    "scrolled": false
   },
   "outputs": [],
   "source": [
    "best_estimated_problist, bestthetas, costfunc, costfunclist=gradient_descent(X_train, y_train, epoch = 10)"
   ]
  },
  {
   "cell_type": "code",
   "execution_count": 37,
   "id": "f8fc42a9",
   "metadata": {},
   "outputs": [
    {
     "data": {
      "text/plain": [
       "array([0.27739347, 0.22291905, 0.3301232 , ..., 0.23099429, 0.17080339,\n",
       "       0.15761303])"
      ]
     },
     "execution_count": 37,
     "metadata": {},
     "output_type": "execute_result"
    }
   ],
   "source": [
    "best_estimated_problist"
   ]
  },
  {
   "cell_type": "code",
   "execution_count": 38,
   "id": "079046da",
   "metadata": {},
   "outputs": [
    {
     "data": {
      "text/plain": [
       "0.23407451066728718"
      ]
     },
     "execution_count": 38,
     "metadata": {},
     "output_type": "execute_result"
    }
   ],
   "source": [
    "costfunc"
   ]
  },
  {
   "cell_type": "code",
   "execution_count": 39,
   "id": "029f063d",
   "metadata": {},
   "outputs": [
    {
     "data": {
      "text/plain": [
       "[1.2159323131902593,\n",
       " 0.9178593914637725,\n",
       " 0.7054940765107649,\n",
       " 0.5610377030921362,\n",
       " 0.4627994477329803,\n",
       " 0.394028175186472,\n",
       " 0.34401282861255206,\n",
       " 0.3062746942583069,\n",
       " 0.27687271568689914,\n",
       " 0.2533393469378525,\n",
       " 0.23407451066728718]"
      ]
     },
     "execution_count": 39,
     "metadata": {},
     "output_type": "execute_result"
    }
   ],
   "source": [
    "costfunclist\n"
   ]
  },
  {
   "cell_type": "code",
   "execution_count": 40,
   "id": "6907ccd5",
   "metadata": {},
   "outputs": [
    {
     "data": {
      "text/plain": [
       "array([-1.21678812, -1.14540877,  0.22344497, -1.15148835,  0.88065364,\n",
       "       -0.00754566, -0.11697674,  0.87473784,  0.86453318,  0.86831681])"
      ]
     },
     "execution_count": 40,
     "metadata": {},
     "output_type": "execute_result"
    }
   ],
   "source": [
    "bestthetas"
   ]
  },
  {
   "cell_type": "code",
   "execution_count": 41,
   "id": "0cd23cab",
   "metadata": {},
   "outputs": [
    {
     "data": {
      "text/plain": [
       "4262955"
      ]
     },
     "execution_count": 41,
     "metadata": {},
     "output_type": "execute_result"
    }
   ],
   "source": [
    "z=net_input(bestthetas, X_train)\n",
    "z.size"
   ]
  },
  {
   "cell_type": "code",
   "execution_count": 42,
   "id": "0b2a2c83",
   "metadata": {},
   "outputs": [
    {
     "data": {
      "image/png": "[encoded data removed]",
      "text/plain": [
       "<Figure size 432x288 with 1 Axes>"
      ]
     },
     "metadata": {
      "needs_background": "light"
     },
     "output_type": "display_data"
    }
   ],
   "source": [
    "plt.plot( z[:100000], best_estimated_problist[:100000])\n",
    "  \n",
    "# naming the x axis\n",
    "plt.xlabel('best_estimated_problist')\n",
    "# naming the y axis\n",
    "plt.ylabel('z')\n",
    "  \n",
    "# giving a title to my graph\n",
    "plt.title('prob')\n",
    "  \n",
    "# function to show the plot\n",
    "plt.show()"
   ]
  },
  {
   "cell_type": "code",
   "execution_count": 43,
   "id": "2c86481f",
   "metadata": {},
   "outputs": [
    {
     "data": {
      "text/plain": [
       "KFold(n_splits=10, random_state=None, shuffle=False)"
      ]
     },
     "execution_count": 43,
     "metadata": {},
     "output_type": "execute_result"
    }
   ],
   "source": [
    "from sklearn.model_selection import KFold\n",
    "kf = KFold(n_splits=10)\n",
    "kf"
   ]
  },
  {
   "cell_type": "code",
   "execution_count": 44,
   "id": "94fcfb41",
   "metadata": {
    "scrolled": true
   },
   "outputs": [
    {
     "name": "stdout",
     "output_type": "stream",
     "text": [
      "[ 426296  426297  426298 ... 4262952 4262953 4262954] [     0      1      2 ... 426293 426294 426295]\n",
      "[      0       1       2 ... 4262952 4262953 4262954] [426296 426297 426298 ... 852589 852590 852591]\n",
      "[      0       1       2 ... 4262952 4262953 4262954] [ 852592  852593  852594 ... 1278885 1278886 1278887]\n",
      "[      0       1       2 ... 4262952 4262953 4262954] [1278888 1278889 1278890 ... 1705181 1705182 1705183]\n",
      "[      0       1       2 ... 4262952 4262953 4262954] [1705184 1705185 1705186 ... 2131477 2131478 2131479]\n",
      "[      0       1       2 ... 4262952 4262953 4262954] [2131480 2131481 2131482 ... 2557772 2557773 2557774]\n",
      "[      0       1       2 ... 4262952 4262953 4262954] [2557775 2557776 2557777 ... 2984067 2984068 2984069]\n",
      "[      0       1       2 ... 4262952 4262953 4262954] [2984070 2984071 2984072 ... 3410362 3410363 3410364]\n",
      "[      0       1       2 ... 4262952 4262953 4262954] [3410365 3410366 3410367 ... 3836657 3836658 3836659]\n",
      "[      0       1       2 ... 3836657 3836658 3836659] [3836660 3836661 3836662 ... 4262952 4262953 4262954]\n"
     ]
    }
   ],
   "source": [
    "for train_index, test_index in kf.split(X_train):\n",
    "    print(train_index, test_index)"
   ]
  },
  {
   "cell_type": "code",
   "execution_count": null,
   "id": "f6a17ef8",
   "metadata": {},
   "outputs": [],
   "source": []
  }
 ],
 "metadata": {
  "kernelspec": {
   "display_name": "Python 3",
   "language": "python",
   "name": "python3"
  },
  "language_info": {
   "codemirror_mode": {
    "name": "ipython",
    "version": 3
   },
   "file_extension": ".py",
   "mimetype": "text/x-python",
   "name": "python",
   "nbconvert_exporter": "python",
   "pygments_lexer": "ipython3",
   "version": "3.8.8"
  }
 },
 "nbformat": 4,
 "nbformat_minor": 5
}
